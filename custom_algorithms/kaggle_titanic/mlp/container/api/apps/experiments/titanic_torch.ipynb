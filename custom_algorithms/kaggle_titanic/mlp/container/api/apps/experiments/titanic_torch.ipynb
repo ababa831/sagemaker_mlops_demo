{
  "nbformat": 4,
  "nbformat_minor": 0,
  "metadata": {
    "colab": {
      "name": "titanic_torch.ipynb",
      "version": "0.3.2",
      "provenance": [],
      "collapsed_sections": [],
      "toc_visible": true
    },
    "kernelspec": {
      "name": "python3",
      "display_name": "Python 3"
    },
    "accelerator": "GPU"
  },
  "cells": [
    {
      "cell_type": "markdown",
      "metadata": {
        "id": "Qu85iRpWrDNB",
        "colab_type": "text"
      },
      "source": [
        "# TitanicコンペをPyTorch MLPで適当に解くサンプル\n",
        "\n",
        "PyTorchを慣れるために遊んでみた"
      ]
    },
    {
      "cell_type": "markdown",
      "metadata": {
        "id": "gqyObJXtrTVC",
        "colab_type": "text"
      },
      "source": [
        "## Colaboratoryの色々設定"
      ]
    },
    {
      "cell_type": "code",
      "metadata": {
        "id": "6QSjwoBbjQL_",
        "colab_type": "code",
        "outputId": "af83f5f7-99b7-4708-988b-fe1a2e333d6d",
        "colab": {
          "base_uri": "https://localhost:8080/",
          "height": 34
        }
      },
      "source": [
        "from google.colab import drive\n",
        "drive.mount('/content/drive')"
      ],
      "execution_count": 1,
      "outputs": [
        {
          "output_type": "stream",
          "text": [
            "Drive already mounted at /content/drive; to attempt to forcibly remount, call drive.mount(\"/content/drive\", force_remount=True).\n"
          ],
          "name": "stdout"
        }
      ]
    },
    {
      "cell_type": "code",
      "metadata": {
        "id": "qgTRsxG1lhBW",
        "colab_type": "code",
        "outputId": "55c70390-f0e1-4560-ac19-344275a921a4",
        "colab": {
          "base_uri": "https://localhost:8080/",
          "height": 34
        }
      },
      "source": [
        "! ls"
      ],
      "execution_count": 2,
      "outputs": [
        {
          "output_type": "stream",
          "text": [
            "drive  sample_data\n"
          ],
          "name": "stdout"
        }
      ]
    },
    {
      "cell_type": "markdown",
      "metadata": {
        "id": "_IpiStTbrd5D",
        "colab_type": "text"
      },
      "source": [
        "## 前処理とか特徴エンジニアリングとか\n",
        "クッソ雑に\n"
      ]
    },
    {
      "cell_type": "code",
      "metadata": {
        "id": "FP-sz8I8l_mf",
        "colab_type": "code",
        "colab": {}
      },
      "source": [
        "import pandas as pd\n",
        "train_df = pd.read_csv('drive/My Drive/Colab Notebooks/data/titanic/train.csv')\n",
        "test_df = pd.read_csv('drive/My Drive/Colab Notebooks/data/titanic/test.csv')"
      ],
      "execution_count": 0,
      "outputs": []
    },
    {
      "cell_type": "code",
      "metadata": {
        "id": "_bs2F9LImuza",
        "colab_type": "code",
        "outputId": "9c357677-65fd-48d2-da80-416b736a6eb5",
        "colab": {
          "base_uri": "https://localhost:8080/",
          "height": 153
        }
      },
      "source": [
        "train_test_df = train_df.append(test_df).reset_index(drop=True)"
      ],
      "execution_count": 4,
      "outputs": [
        {
          "output_type": "stream",
          "text": [
            "/usr/local/lib/python3.6/dist-packages/pandas/core/frame.py:6692: FutureWarning: Sorting because non-concatenation axis is not aligned. A future version\n",
            "of pandas will change to not sort by default.\n",
            "\n",
            "To accept the future behavior, pass 'sort=False'.\n",
            "\n",
            "To retain the current behavior and silence the warning, pass 'sort=True'.\n",
            "\n",
            "  sort=sort)\n"
          ],
          "name": "stderr"
        }
      ]
    },
    {
      "cell_type": "code",
      "metadata": {
        "id": "K1Rb-tVAnEOP",
        "colab_type": "code",
        "outputId": "636ab372-04ec-4efa-ed60-bbf8047d3f0b",
        "colab": {
          "base_uri": "https://localhost:8080/",
          "height": 1000
        }
      },
      "source": [
        "train_test_df"
      ],
      "execution_count": 5,
      "outputs": [
        {
          "output_type": "execute_result",
          "data": {
            "text/html": [
              "<div>\n",
              "<style scoped>\n",
              "    .dataframe tbody tr th:only-of-type {\n",
              "        vertical-align: middle;\n",
              "    }\n",
              "\n",
              "    .dataframe tbody tr th {\n",
              "        vertical-align: top;\n",
              "    }\n",
              "\n",
              "    .dataframe thead th {\n",
              "        text-align: right;\n",
              "    }\n",
              "</style>\n",
              "<table border=\"1\" class=\"dataframe\">\n",
              "  <thead>\n",
              "    <tr style=\"text-align: right;\">\n",
              "      <th></th>\n",
              "      <th>Age</th>\n",
              "      <th>Cabin</th>\n",
              "      <th>Embarked</th>\n",
              "      <th>Fare</th>\n",
              "      <th>Name</th>\n",
              "      <th>Parch</th>\n",
              "      <th>PassengerId</th>\n",
              "      <th>Pclass</th>\n",
              "      <th>Sex</th>\n",
              "      <th>SibSp</th>\n",
              "      <th>Survived</th>\n",
              "      <th>Ticket</th>\n",
              "    </tr>\n",
              "  </thead>\n",
              "  <tbody>\n",
              "    <tr>\n",
              "      <th>0</th>\n",
              "      <td>22.0</td>\n",
              "      <td>NaN</td>\n",
              "      <td>S</td>\n",
              "      <td>7.2500</td>\n",
              "      <td>Braund, Mr. Owen Harris</td>\n",
              "      <td>0</td>\n",
              "      <td>1</td>\n",
              "      <td>3</td>\n",
              "      <td>male</td>\n",
              "      <td>1</td>\n",
              "      <td>0.0</td>\n",
              "      <td>A/5 21171</td>\n",
              "    </tr>\n",
              "    <tr>\n",
              "      <th>1</th>\n",
              "      <td>38.0</td>\n",
              "      <td>C85</td>\n",
              "      <td>C</td>\n",
              "      <td>71.2833</td>\n",
              "      <td>Cumings, Mrs. John Bradley (Florence Briggs Th...</td>\n",
              "      <td>0</td>\n",
              "      <td>2</td>\n",
              "      <td>1</td>\n",
              "      <td>female</td>\n",
              "      <td>1</td>\n",
              "      <td>1.0</td>\n",
              "      <td>PC 17599</td>\n",
              "    </tr>\n",
              "    <tr>\n",
              "      <th>2</th>\n",
              "      <td>26.0</td>\n",
              "      <td>NaN</td>\n",
              "      <td>S</td>\n",
              "      <td>7.9250</td>\n",
              "      <td>Heikkinen, Miss. Laina</td>\n",
              "      <td>0</td>\n",
              "      <td>3</td>\n",
              "      <td>3</td>\n",
              "      <td>female</td>\n",
              "      <td>0</td>\n",
              "      <td>1.0</td>\n",
              "      <td>STON/O2. 3101282</td>\n",
              "    </tr>\n",
              "    <tr>\n",
              "      <th>3</th>\n",
              "      <td>35.0</td>\n",
              "      <td>C123</td>\n",
              "      <td>S</td>\n",
              "      <td>53.1000</td>\n",
              "      <td>Futrelle, Mrs. Jacques Heath (Lily May Peel)</td>\n",
              "      <td>0</td>\n",
              "      <td>4</td>\n",
              "      <td>1</td>\n",
              "      <td>female</td>\n",
              "      <td>1</td>\n",
              "      <td>1.0</td>\n",
              "      <td>113803</td>\n",
              "    </tr>\n",
              "    <tr>\n",
              "      <th>4</th>\n",
              "      <td>35.0</td>\n",
              "      <td>NaN</td>\n",
              "      <td>S</td>\n",
              "      <td>8.0500</td>\n",
              "      <td>Allen, Mr. William Henry</td>\n",
              "      <td>0</td>\n",
              "      <td>5</td>\n",
              "      <td>3</td>\n",
              "      <td>male</td>\n",
              "      <td>0</td>\n",
              "      <td>0.0</td>\n",
              "      <td>373450</td>\n",
              "    </tr>\n",
              "    <tr>\n",
              "      <th>5</th>\n",
              "      <td>NaN</td>\n",
              "      <td>NaN</td>\n",
              "      <td>Q</td>\n",
              "      <td>8.4583</td>\n",
              "      <td>Moran, Mr. James</td>\n",
              "      <td>0</td>\n",
              "      <td>6</td>\n",
              "      <td>3</td>\n",
              "      <td>male</td>\n",
              "      <td>0</td>\n",
              "      <td>0.0</td>\n",
              "      <td>330877</td>\n",
              "    </tr>\n",
              "    <tr>\n",
              "      <th>6</th>\n",
              "      <td>54.0</td>\n",
              "      <td>E46</td>\n",
              "      <td>S</td>\n",
              "      <td>51.8625</td>\n",
              "      <td>McCarthy, Mr. Timothy J</td>\n",
              "      <td>0</td>\n",
              "      <td>7</td>\n",
              "      <td>1</td>\n",
              "      <td>male</td>\n",
              "      <td>0</td>\n",
              "      <td>0.0</td>\n",
              "      <td>17463</td>\n",
              "    </tr>\n",
              "    <tr>\n",
              "      <th>7</th>\n",
              "      <td>2.0</td>\n",
              "      <td>NaN</td>\n",
              "      <td>S</td>\n",
              "      <td>21.0750</td>\n",
              "      <td>Palsson, Master. Gosta Leonard</td>\n",
              "      <td>1</td>\n",
              "      <td>8</td>\n",
              "      <td>3</td>\n",
              "      <td>male</td>\n",
              "      <td>3</td>\n",
              "      <td>0.0</td>\n",
              "      <td>349909</td>\n",
              "    </tr>\n",
              "    <tr>\n",
              "      <th>8</th>\n",
              "      <td>27.0</td>\n",
              "      <td>NaN</td>\n",
              "      <td>S</td>\n",
              "      <td>11.1333</td>\n",
              "      <td>Johnson, Mrs. Oscar W (Elisabeth Vilhelmina Berg)</td>\n",
              "      <td>2</td>\n",
              "      <td>9</td>\n",
              "      <td>3</td>\n",
              "      <td>female</td>\n",
              "      <td>0</td>\n",
              "      <td>1.0</td>\n",
              "      <td>347742</td>\n",
              "    </tr>\n",
              "    <tr>\n",
              "      <th>9</th>\n",
              "      <td>14.0</td>\n",
              "      <td>NaN</td>\n",
              "      <td>C</td>\n",
              "      <td>30.0708</td>\n",
              "      <td>Nasser, Mrs. Nicholas (Adele Achem)</td>\n",
              "      <td>0</td>\n",
              "      <td>10</td>\n",
              "      <td>2</td>\n",
              "      <td>female</td>\n",
              "      <td>1</td>\n",
              "      <td>1.0</td>\n",
              "      <td>237736</td>\n",
              "    </tr>\n",
              "    <tr>\n",
              "      <th>10</th>\n",
              "      <td>4.0</td>\n",
              "      <td>G6</td>\n",
              "      <td>S</td>\n",
              "      <td>16.7000</td>\n",
              "      <td>Sandstrom, Miss. Marguerite Rut</td>\n",
              "      <td>1</td>\n",
              "      <td>11</td>\n",
              "      <td>3</td>\n",
              "      <td>female</td>\n",
              "      <td>1</td>\n",
              "      <td>1.0</td>\n",
              "      <td>PP 9549</td>\n",
              "    </tr>\n",
              "    <tr>\n",
              "      <th>11</th>\n",
              "      <td>58.0</td>\n",
              "      <td>C103</td>\n",
              "      <td>S</td>\n",
              "      <td>26.5500</td>\n",
              "      <td>Bonnell, Miss. Elizabeth</td>\n",
              "      <td>0</td>\n",
              "      <td>12</td>\n",
              "      <td>1</td>\n",
              "      <td>female</td>\n",
              "      <td>0</td>\n",
              "      <td>1.0</td>\n",
              "      <td>113783</td>\n",
              "    </tr>\n",
              "    <tr>\n",
              "      <th>12</th>\n",
              "      <td>20.0</td>\n",
              "      <td>NaN</td>\n",
              "      <td>S</td>\n",
              "      <td>8.0500</td>\n",
              "      <td>Saundercock, Mr. William Henry</td>\n",
              "      <td>0</td>\n",
              "      <td>13</td>\n",
              "      <td>3</td>\n",
              "      <td>male</td>\n",
              "      <td>0</td>\n",
              "      <td>0.0</td>\n",
              "      <td>A/5. 2151</td>\n",
              "    </tr>\n",
              "    <tr>\n",
              "      <th>13</th>\n",
              "      <td>39.0</td>\n",
              "      <td>NaN</td>\n",
              "      <td>S</td>\n",
              "      <td>31.2750</td>\n",
              "      <td>Andersson, Mr. Anders Johan</td>\n",
              "      <td>5</td>\n",
              "      <td>14</td>\n",
              "      <td>3</td>\n",
              "      <td>male</td>\n",
              "      <td>1</td>\n",
              "      <td>0.0</td>\n",
              "      <td>347082</td>\n",
              "    </tr>\n",
              "    <tr>\n",
              "      <th>14</th>\n",
              "      <td>14.0</td>\n",
              "      <td>NaN</td>\n",
              "      <td>S</td>\n",
              "      <td>7.8542</td>\n",
              "      <td>Vestrom, Miss. Hulda Amanda Adolfina</td>\n",
              "      <td>0</td>\n",
              "      <td>15</td>\n",
              "      <td>3</td>\n",
              "      <td>female</td>\n",
              "      <td>0</td>\n",
              "      <td>0.0</td>\n",
              "      <td>350406</td>\n",
              "    </tr>\n",
              "    <tr>\n",
              "      <th>15</th>\n",
              "      <td>55.0</td>\n",
              "      <td>NaN</td>\n",
              "      <td>S</td>\n",
              "      <td>16.0000</td>\n",
              "      <td>Hewlett, Mrs. (Mary D Kingcome)</td>\n",
              "      <td>0</td>\n",
              "      <td>16</td>\n",
              "      <td>2</td>\n",
              "      <td>female</td>\n",
              "      <td>0</td>\n",
              "      <td>1.0</td>\n",
              "      <td>248706</td>\n",
              "    </tr>\n",
              "    <tr>\n",
              "      <th>16</th>\n",
              "      <td>2.0</td>\n",
              "      <td>NaN</td>\n",
              "      <td>Q</td>\n",
              "      <td>29.1250</td>\n",
              "      <td>Rice, Master. Eugene</td>\n",
              "      <td>1</td>\n",
              "      <td>17</td>\n",
              "      <td>3</td>\n",
              "      <td>male</td>\n",
              "      <td>4</td>\n",
              "      <td>0.0</td>\n",
              "      <td>382652</td>\n",
              "    </tr>\n",
              "    <tr>\n",
              "      <th>17</th>\n",
              "      <td>NaN</td>\n",
              "      <td>NaN</td>\n",
              "      <td>S</td>\n",
              "      <td>13.0000</td>\n",
              "      <td>Williams, Mr. Charles Eugene</td>\n",
              "      <td>0</td>\n",
              "      <td>18</td>\n",
              "      <td>2</td>\n",
              "      <td>male</td>\n",
              "      <td>0</td>\n",
              "      <td>1.0</td>\n",
              "      <td>244373</td>\n",
              "    </tr>\n",
              "    <tr>\n",
              "      <th>18</th>\n",
              "      <td>31.0</td>\n",
              "      <td>NaN</td>\n",
              "      <td>S</td>\n",
              "      <td>18.0000</td>\n",
              "      <td>Vander Planke, Mrs. Julius (Emelia Maria Vande...</td>\n",
              "      <td>0</td>\n",
              "      <td>19</td>\n",
              "      <td>3</td>\n",
              "      <td>female</td>\n",
              "      <td>1</td>\n",
              "      <td>0.0</td>\n",
              "      <td>345763</td>\n",
              "    </tr>\n",
              "    <tr>\n",
              "      <th>19</th>\n",
              "      <td>NaN</td>\n",
              "      <td>NaN</td>\n",
              "      <td>C</td>\n",
              "      <td>7.2250</td>\n",
              "      <td>Masselmani, Mrs. Fatima</td>\n",
              "      <td>0</td>\n",
              "      <td>20</td>\n",
              "      <td>3</td>\n",
              "      <td>female</td>\n",
              "      <td>0</td>\n",
              "      <td>1.0</td>\n",
              "      <td>2649</td>\n",
              "    </tr>\n",
              "    <tr>\n",
              "      <th>20</th>\n",
              "      <td>35.0</td>\n",
              "      <td>NaN</td>\n",
              "      <td>S</td>\n",
              "      <td>26.0000</td>\n",
              "      <td>Fynney, Mr. Joseph J</td>\n",
              "      <td>0</td>\n",
              "      <td>21</td>\n",
              "      <td>2</td>\n",
              "      <td>male</td>\n",
              "      <td>0</td>\n",
              "      <td>0.0</td>\n",
              "      <td>239865</td>\n",
              "    </tr>\n",
              "    <tr>\n",
              "      <th>21</th>\n",
              "      <td>34.0</td>\n",
              "      <td>D56</td>\n",
              "      <td>S</td>\n",
              "      <td>13.0000</td>\n",
              "      <td>Beesley, Mr. Lawrence</td>\n",
              "      <td>0</td>\n",
              "      <td>22</td>\n",
              "      <td>2</td>\n",
              "      <td>male</td>\n",
              "      <td>0</td>\n",
              "      <td>1.0</td>\n",
              "      <td>248698</td>\n",
              "    </tr>\n",
              "    <tr>\n",
              "      <th>22</th>\n",
              "      <td>15.0</td>\n",
              "      <td>NaN</td>\n",
              "      <td>Q</td>\n",
              "      <td>8.0292</td>\n",
              "      <td>McGowan, Miss. Anna \"Annie\"</td>\n",
              "      <td>0</td>\n",
              "      <td>23</td>\n",
              "      <td>3</td>\n",
              "      <td>female</td>\n",
              "      <td>0</td>\n",
              "      <td>1.0</td>\n",
              "      <td>330923</td>\n",
              "    </tr>\n",
              "    <tr>\n",
              "      <th>23</th>\n",
              "      <td>28.0</td>\n",
              "      <td>A6</td>\n",
              "      <td>S</td>\n",
              "      <td>35.5000</td>\n",
              "      <td>Sloper, Mr. William Thompson</td>\n",
              "      <td>0</td>\n",
              "      <td>24</td>\n",
              "      <td>1</td>\n",
              "      <td>male</td>\n",
              "      <td>0</td>\n",
              "      <td>1.0</td>\n",
              "      <td>113788</td>\n",
              "    </tr>\n",
              "    <tr>\n",
              "      <th>24</th>\n",
              "      <td>8.0</td>\n",
              "      <td>NaN</td>\n",
              "      <td>S</td>\n",
              "      <td>21.0750</td>\n",
              "      <td>Palsson, Miss. Torborg Danira</td>\n",
              "      <td>1</td>\n",
              "      <td>25</td>\n",
              "      <td>3</td>\n",
              "      <td>female</td>\n",
              "      <td>3</td>\n",
              "      <td>0.0</td>\n",
              "      <td>349909</td>\n",
              "    </tr>\n",
              "    <tr>\n",
              "      <th>25</th>\n",
              "      <td>38.0</td>\n",
              "      <td>NaN</td>\n",
              "      <td>S</td>\n",
              "      <td>31.3875</td>\n",
              "      <td>Asplund, Mrs. Carl Oscar (Selma Augusta Emilia...</td>\n",
              "      <td>5</td>\n",
              "      <td>26</td>\n",
              "      <td>3</td>\n",
              "      <td>female</td>\n",
              "      <td>1</td>\n",
              "      <td>1.0</td>\n",
              "      <td>347077</td>\n",
              "    </tr>\n",
              "    <tr>\n",
              "      <th>26</th>\n",
              "      <td>NaN</td>\n",
              "      <td>NaN</td>\n",
              "      <td>C</td>\n",
              "      <td>7.2250</td>\n",
              "      <td>Emir, Mr. Farred Chehab</td>\n",
              "      <td>0</td>\n",
              "      <td>27</td>\n",
              "      <td>3</td>\n",
              "      <td>male</td>\n",
              "      <td>0</td>\n",
              "      <td>0.0</td>\n",
              "      <td>2631</td>\n",
              "    </tr>\n",
              "    <tr>\n",
              "      <th>27</th>\n",
              "      <td>19.0</td>\n",
              "      <td>C23 C25 C27</td>\n",
              "      <td>S</td>\n",
              "      <td>263.0000</td>\n",
              "      <td>Fortune, Mr. Charles Alexander</td>\n",
              "      <td>2</td>\n",
              "      <td>28</td>\n",
              "      <td>1</td>\n",
              "      <td>male</td>\n",
              "      <td>3</td>\n",
              "      <td>0.0</td>\n",
              "      <td>19950</td>\n",
              "    </tr>\n",
              "    <tr>\n",
              "      <th>28</th>\n",
              "      <td>NaN</td>\n",
              "      <td>NaN</td>\n",
              "      <td>Q</td>\n",
              "      <td>7.8792</td>\n",
              "      <td>O'Dwyer, Miss. Ellen \"Nellie\"</td>\n",
              "      <td>0</td>\n",
              "      <td>29</td>\n",
              "      <td>3</td>\n",
              "      <td>female</td>\n",
              "      <td>0</td>\n",
              "      <td>1.0</td>\n",
              "      <td>330959</td>\n",
              "    </tr>\n",
              "    <tr>\n",
              "      <th>29</th>\n",
              "      <td>NaN</td>\n",
              "      <td>NaN</td>\n",
              "      <td>S</td>\n",
              "      <td>7.8958</td>\n",
              "      <td>Todoroff, Mr. Lalio</td>\n",
              "      <td>0</td>\n",
              "      <td>30</td>\n",
              "      <td>3</td>\n",
              "      <td>male</td>\n",
              "      <td>0</td>\n",
              "      <td>0.0</td>\n",
              "      <td>349216</td>\n",
              "    </tr>\n",
              "    <tr>\n",
              "      <th>...</th>\n",
              "      <td>...</td>\n",
              "      <td>...</td>\n",
              "      <td>...</td>\n",
              "      <td>...</td>\n",
              "      <td>...</td>\n",
              "      <td>...</td>\n",
              "      <td>...</td>\n",
              "      <td>...</td>\n",
              "      <td>...</td>\n",
              "      <td>...</td>\n",
              "      <td>...</td>\n",
              "      <td>...</td>\n",
              "    </tr>\n",
              "    <tr>\n",
              "      <th>1279</th>\n",
              "      <td>21.0</td>\n",
              "      <td>NaN</td>\n",
              "      <td>Q</td>\n",
              "      <td>7.7500</td>\n",
              "      <td>Canavan, Mr. Patrick</td>\n",
              "      <td>0</td>\n",
              "      <td>1280</td>\n",
              "      <td>3</td>\n",
              "      <td>male</td>\n",
              "      <td>0</td>\n",
              "      <td>NaN</td>\n",
              "      <td>364858</td>\n",
              "    </tr>\n",
              "    <tr>\n",
              "      <th>1280</th>\n",
              "      <td>6.0</td>\n",
              "      <td>NaN</td>\n",
              "      <td>S</td>\n",
              "      <td>21.0750</td>\n",
              "      <td>Palsson, Master. Paul Folke</td>\n",
              "      <td>1</td>\n",
              "      <td>1281</td>\n",
              "      <td>3</td>\n",
              "      <td>male</td>\n",
              "      <td>3</td>\n",
              "      <td>NaN</td>\n",
              "      <td>349909</td>\n",
              "    </tr>\n",
              "    <tr>\n",
              "      <th>1281</th>\n",
              "      <td>23.0</td>\n",
              "      <td>B24</td>\n",
              "      <td>S</td>\n",
              "      <td>93.5000</td>\n",
              "      <td>Payne, Mr. Vivian Ponsonby</td>\n",
              "      <td>0</td>\n",
              "      <td>1282</td>\n",
              "      <td>1</td>\n",
              "      <td>male</td>\n",
              "      <td>0</td>\n",
              "      <td>NaN</td>\n",
              "      <td>12749</td>\n",
              "    </tr>\n",
              "    <tr>\n",
              "      <th>1282</th>\n",
              "      <td>51.0</td>\n",
              "      <td>D28</td>\n",
              "      <td>S</td>\n",
              "      <td>39.4000</td>\n",
              "      <td>Lines, Mrs. Ernest H (Elizabeth Lindsey James)</td>\n",
              "      <td>1</td>\n",
              "      <td>1283</td>\n",
              "      <td>1</td>\n",
              "      <td>female</td>\n",
              "      <td>0</td>\n",
              "      <td>NaN</td>\n",
              "      <td>PC 17592</td>\n",
              "    </tr>\n",
              "    <tr>\n",
              "      <th>1283</th>\n",
              "      <td>13.0</td>\n",
              "      <td>NaN</td>\n",
              "      <td>S</td>\n",
              "      <td>20.2500</td>\n",
              "      <td>Abbott, Master. Eugene Joseph</td>\n",
              "      <td>2</td>\n",
              "      <td>1284</td>\n",
              "      <td>3</td>\n",
              "      <td>male</td>\n",
              "      <td>0</td>\n",
              "      <td>NaN</td>\n",
              "      <td>C.A. 2673</td>\n",
              "    </tr>\n",
              "    <tr>\n",
              "      <th>1284</th>\n",
              "      <td>47.0</td>\n",
              "      <td>NaN</td>\n",
              "      <td>S</td>\n",
              "      <td>10.5000</td>\n",
              "      <td>Gilbert, Mr. William</td>\n",
              "      <td>0</td>\n",
              "      <td>1285</td>\n",
              "      <td>2</td>\n",
              "      <td>male</td>\n",
              "      <td>0</td>\n",
              "      <td>NaN</td>\n",
              "      <td>C.A. 30769</td>\n",
              "    </tr>\n",
              "    <tr>\n",
              "      <th>1285</th>\n",
              "      <td>29.0</td>\n",
              "      <td>NaN</td>\n",
              "      <td>S</td>\n",
              "      <td>22.0250</td>\n",
              "      <td>Kink-Heilmann, Mr. Anton</td>\n",
              "      <td>1</td>\n",
              "      <td>1286</td>\n",
              "      <td>3</td>\n",
              "      <td>male</td>\n",
              "      <td>3</td>\n",
              "      <td>NaN</td>\n",
              "      <td>315153</td>\n",
              "    </tr>\n",
              "    <tr>\n",
              "      <th>1286</th>\n",
              "      <td>18.0</td>\n",
              "      <td>C31</td>\n",
              "      <td>S</td>\n",
              "      <td>60.0000</td>\n",
              "      <td>Smith, Mrs. Lucien Philip (Mary Eloise Hughes)</td>\n",
              "      <td>0</td>\n",
              "      <td>1287</td>\n",
              "      <td>1</td>\n",
              "      <td>female</td>\n",
              "      <td>1</td>\n",
              "      <td>NaN</td>\n",
              "      <td>13695</td>\n",
              "    </tr>\n",
              "    <tr>\n",
              "      <th>1287</th>\n",
              "      <td>24.0</td>\n",
              "      <td>NaN</td>\n",
              "      <td>Q</td>\n",
              "      <td>7.2500</td>\n",
              "      <td>Colbert, Mr. Patrick</td>\n",
              "      <td>0</td>\n",
              "      <td>1288</td>\n",
              "      <td>3</td>\n",
              "      <td>male</td>\n",
              "      <td>0</td>\n",
              "      <td>NaN</td>\n",
              "      <td>371109</td>\n",
              "    </tr>\n",
              "    <tr>\n",
              "      <th>1288</th>\n",
              "      <td>48.0</td>\n",
              "      <td>B41</td>\n",
              "      <td>C</td>\n",
              "      <td>79.2000</td>\n",
              "      <td>Frolicher-Stehli, Mrs. Maxmillian (Margaretha ...</td>\n",
              "      <td>1</td>\n",
              "      <td>1289</td>\n",
              "      <td>1</td>\n",
              "      <td>female</td>\n",
              "      <td>1</td>\n",
              "      <td>NaN</td>\n",
              "      <td>13567</td>\n",
              "    </tr>\n",
              "    <tr>\n",
              "      <th>1289</th>\n",
              "      <td>22.0</td>\n",
              "      <td>NaN</td>\n",
              "      <td>S</td>\n",
              "      <td>7.7750</td>\n",
              "      <td>Larsson-Rondberg, Mr. Edvard A</td>\n",
              "      <td>0</td>\n",
              "      <td>1290</td>\n",
              "      <td>3</td>\n",
              "      <td>male</td>\n",
              "      <td>0</td>\n",
              "      <td>NaN</td>\n",
              "      <td>347065</td>\n",
              "    </tr>\n",
              "    <tr>\n",
              "      <th>1290</th>\n",
              "      <td>31.0</td>\n",
              "      <td>NaN</td>\n",
              "      <td>Q</td>\n",
              "      <td>7.7333</td>\n",
              "      <td>Conlon, Mr. Thomas Henry</td>\n",
              "      <td>0</td>\n",
              "      <td>1291</td>\n",
              "      <td>3</td>\n",
              "      <td>male</td>\n",
              "      <td>0</td>\n",
              "      <td>NaN</td>\n",
              "      <td>21332</td>\n",
              "    </tr>\n",
              "    <tr>\n",
              "      <th>1291</th>\n",
              "      <td>30.0</td>\n",
              "      <td>C7</td>\n",
              "      <td>S</td>\n",
              "      <td>164.8667</td>\n",
              "      <td>Bonnell, Miss. Caroline</td>\n",
              "      <td>0</td>\n",
              "      <td>1292</td>\n",
              "      <td>1</td>\n",
              "      <td>female</td>\n",
              "      <td>0</td>\n",
              "      <td>NaN</td>\n",
              "      <td>36928</td>\n",
              "    </tr>\n",
              "    <tr>\n",
              "      <th>1292</th>\n",
              "      <td>38.0</td>\n",
              "      <td>NaN</td>\n",
              "      <td>S</td>\n",
              "      <td>21.0000</td>\n",
              "      <td>Gale, Mr. Harry</td>\n",
              "      <td>0</td>\n",
              "      <td>1293</td>\n",
              "      <td>2</td>\n",
              "      <td>male</td>\n",
              "      <td>1</td>\n",
              "      <td>NaN</td>\n",
              "      <td>28664</td>\n",
              "    </tr>\n",
              "    <tr>\n",
              "      <th>1293</th>\n",
              "      <td>22.0</td>\n",
              "      <td>NaN</td>\n",
              "      <td>C</td>\n",
              "      <td>59.4000</td>\n",
              "      <td>Gibson, Miss. Dorothy Winifred</td>\n",
              "      <td>1</td>\n",
              "      <td>1294</td>\n",
              "      <td>1</td>\n",
              "      <td>female</td>\n",
              "      <td>0</td>\n",
              "      <td>NaN</td>\n",
              "      <td>112378</td>\n",
              "    </tr>\n",
              "    <tr>\n",
              "      <th>1294</th>\n",
              "      <td>17.0</td>\n",
              "      <td>NaN</td>\n",
              "      <td>S</td>\n",
              "      <td>47.1000</td>\n",
              "      <td>Carrau, Mr. Jose Pedro</td>\n",
              "      <td>0</td>\n",
              "      <td>1295</td>\n",
              "      <td>1</td>\n",
              "      <td>male</td>\n",
              "      <td>0</td>\n",
              "      <td>NaN</td>\n",
              "      <td>113059</td>\n",
              "    </tr>\n",
              "    <tr>\n",
              "      <th>1295</th>\n",
              "      <td>43.0</td>\n",
              "      <td>D40</td>\n",
              "      <td>C</td>\n",
              "      <td>27.7208</td>\n",
              "      <td>Frauenthal, Mr. Isaac Gerald</td>\n",
              "      <td>0</td>\n",
              "      <td>1296</td>\n",
              "      <td>1</td>\n",
              "      <td>male</td>\n",
              "      <td>1</td>\n",
              "      <td>NaN</td>\n",
              "      <td>17765</td>\n",
              "    </tr>\n",
              "    <tr>\n",
              "      <th>1296</th>\n",
              "      <td>20.0</td>\n",
              "      <td>D38</td>\n",
              "      <td>C</td>\n",
              "      <td>13.8625</td>\n",
              "      <td>Nourney, Mr. Alfred (Baron von Drachstedt\")\"</td>\n",
              "      <td>0</td>\n",
              "      <td>1297</td>\n",
              "      <td>2</td>\n",
              "      <td>male</td>\n",
              "      <td>0</td>\n",
              "      <td>NaN</td>\n",
              "      <td>SC/PARIS 2166</td>\n",
              "    </tr>\n",
              "    <tr>\n",
              "      <th>1297</th>\n",
              "      <td>23.0</td>\n",
              "      <td>NaN</td>\n",
              "      <td>S</td>\n",
              "      <td>10.5000</td>\n",
              "      <td>Ware, Mr. William Jeffery</td>\n",
              "      <td>0</td>\n",
              "      <td>1298</td>\n",
              "      <td>2</td>\n",
              "      <td>male</td>\n",
              "      <td>1</td>\n",
              "      <td>NaN</td>\n",
              "      <td>28666</td>\n",
              "    </tr>\n",
              "    <tr>\n",
              "      <th>1298</th>\n",
              "      <td>50.0</td>\n",
              "      <td>C80</td>\n",
              "      <td>C</td>\n",
              "      <td>211.5000</td>\n",
              "      <td>Widener, Mr. George Dunton</td>\n",
              "      <td>1</td>\n",
              "      <td>1299</td>\n",
              "      <td>1</td>\n",
              "      <td>male</td>\n",
              "      <td>1</td>\n",
              "      <td>NaN</td>\n",
              "      <td>113503</td>\n",
              "    </tr>\n",
              "    <tr>\n",
              "      <th>1299</th>\n",
              "      <td>NaN</td>\n",
              "      <td>NaN</td>\n",
              "      <td>Q</td>\n",
              "      <td>7.7208</td>\n",
              "      <td>Riordan, Miss. Johanna Hannah\"\"</td>\n",
              "      <td>0</td>\n",
              "      <td>1300</td>\n",
              "      <td>3</td>\n",
              "      <td>female</td>\n",
              "      <td>0</td>\n",
              "      <td>NaN</td>\n",
              "      <td>334915</td>\n",
              "    </tr>\n",
              "    <tr>\n",
              "      <th>1300</th>\n",
              "      <td>3.0</td>\n",
              "      <td>NaN</td>\n",
              "      <td>S</td>\n",
              "      <td>13.7750</td>\n",
              "      <td>Peacock, Miss. Treasteall</td>\n",
              "      <td>1</td>\n",
              "      <td>1301</td>\n",
              "      <td>3</td>\n",
              "      <td>female</td>\n",
              "      <td>1</td>\n",
              "      <td>NaN</td>\n",
              "      <td>SOTON/O.Q. 3101315</td>\n",
              "    </tr>\n",
              "    <tr>\n",
              "      <th>1301</th>\n",
              "      <td>NaN</td>\n",
              "      <td>NaN</td>\n",
              "      <td>Q</td>\n",
              "      <td>7.7500</td>\n",
              "      <td>Naughton, Miss. Hannah</td>\n",
              "      <td>0</td>\n",
              "      <td>1302</td>\n",
              "      <td>3</td>\n",
              "      <td>female</td>\n",
              "      <td>0</td>\n",
              "      <td>NaN</td>\n",
              "      <td>365237</td>\n",
              "    </tr>\n",
              "    <tr>\n",
              "      <th>1302</th>\n",
              "      <td>37.0</td>\n",
              "      <td>C78</td>\n",
              "      <td>Q</td>\n",
              "      <td>90.0000</td>\n",
              "      <td>Minahan, Mrs. William Edward (Lillian E Thorpe)</td>\n",
              "      <td>0</td>\n",
              "      <td>1303</td>\n",
              "      <td>1</td>\n",
              "      <td>female</td>\n",
              "      <td>1</td>\n",
              "      <td>NaN</td>\n",
              "      <td>19928</td>\n",
              "    </tr>\n",
              "    <tr>\n",
              "      <th>1303</th>\n",
              "      <td>28.0</td>\n",
              "      <td>NaN</td>\n",
              "      <td>S</td>\n",
              "      <td>7.7750</td>\n",
              "      <td>Henriksson, Miss. Jenny Lovisa</td>\n",
              "      <td>0</td>\n",
              "      <td>1304</td>\n",
              "      <td>3</td>\n",
              "      <td>female</td>\n",
              "      <td>0</td>\n",
              "      <td>NaN</td>\n",
              "      <td>347086</td>\n",
              "    </tr>\n",
              "    <tr>\n",
              "      <th>1304</th>\n",
              "      <td>NaN</td>\n",
              "      <td>NaN</td>\n",
              "      <td>S</td>\n",
              "      <td>8.0500</td>\n",
              "      <td>Spector, Mr. Woolf</td>\n",
              "      <td>0</td>\n",
              "      <td>1305</td>\n",
              "      <td>3</td>\n",
              "      <td>male</td>\n",
              "      <td>0</td>\n",
              "      <td>NaN</td>\n",
              "      <td>A.5. 3236</td>\n",
              "    </tr>\n",
              "    <tr>\n",
              "      <th>1305</th>\n",
              "      <td>39.0</td>\n",
              "      <td>C105</td>\n",
              "      <td>C</td>\n",
              "      <td>108.9000</td>\n",
              "      <td>Oliva y Ocana, Dona. Fermina</td>\n",
              "      <td>0</td>\n",
              "      <td>1306</td>\n",
              "      <td>1</td>\n",
              "      <td>female</td>\n",
              "      <td>0</td>\n",
              "      <td>NaN</td>\n",
              "      <td>PC 17758</td>\n",
              "    </tr>\n",
              "    <tr>\n",
              "      <th>1306</th>\n",
              "      <td>38.5</td>\n",
              "      <td>NaN</td>\n",
              "      <td>S</td>\n",
              "      <td>7.2500</td>\n",
              "      <td>Saether, Mr. Simon Sivertsen</td>\n",
              "      <td>0</td>\n",
              "      <td>1307</td>\n",
              "      <td>3</td>\n",
              "      <td>male</td>\n",
              "      <td>0</td>\n",
              "      <td>NaN</td>\n",
              "      <td>SOTON/O.Q. 3101262</td>\n",
              "    </tr>\n",
              "    <tr>\n",
              "      <th>1307</th>\n",
              "      <td>NaN</td>\n",
              "      <td>NaN</td>\n",
              "      <td>S</td>\n",
              "      <td>8.0500</td>\n",
              "      <td>Ware, Mr. Frederick</td>\n",
              "      <td>0</td>\n",
              "      <td>1308</td>\n",
              "      <td>3</td>\n",
              "      <td>male</td>\n",
              "      <td>0</td>\n",
              "      <td>NaN</td>\n",
              "      <td>359309</td>\n",
              "    </tr>\n",
              "    <tr>\n",
              "      <th>1308</th>\n",
              "      <td>NaN</td>\n",
              "      <td>NaN</td>\n",
              "      <td>C</td>\n",
              "      <td>22.3583</td>\n",
              "      <td>Peter, Master. Michael J</td>\n",
              "      <td>1</td>\n",
              "      <td>1309</td>\n",
              "      <td>3</td>\n",
              "      <td>male</td>\n",
              "      <td>1</td>\n",
              "      <td>NaN</td>\n",
              "      <td>2668</td>\n",
              "    </tr>\n",
              "  </tbody>\n",
              "</table>\n",
              "<p>1309 rows × 12 columns</p>\n",
              "</div>"
            ],
            "text/plain": [
              "       Age        Cabin Embarked  ...  SibSp Survived              Ticket\n",
              "0     22.0          NaN        S  ...      1      0.0           A/5 21171\n",
              "1     38.0          C85        C  ...      1      1.0            PC 17599\n",
              "2     26.0          NaN        S  ...      0      1.0    STON/O2. 3101282\n",
              "3     35.0         C123        S  ...      1      1.0              113803\n",
              "4     35.0          NaN        S  ...      0      0.0              373450\n",
              "5      NaN          NaN        Q  ...      0      0.0              330877\n",
              "6     54.0          E46        S  ...      0      0.0               17463\n",
              "7      2.0          NaN        S  ...      3      0.0              349909\n",
              "8     27.0          NaN        S  ...      0      1.0              347742\n",
              "9     14.0          NaN        C  ...      1      1.0              237736\n",
              "10     4.0           G6        S  ...      1      1.0             PP 9549\n",
              "11    58.0         C103        S  ...      0      1.0              113783\n",
              "12    20.0          NaN        S  ...      0      0.0           A/5. 2151\n",
              "13    39.0          NaN        S  ...      1      0.0              347082\n",
              "14    14.0          NaN        S  ...      0      0.0              350406\n",
              "15    55.0          NaN        S  ...      0      1.0              248706\n",
              "16     2.0          NaN        Q  ...      4      0.0              382652\n",
              "17     NaN          NaN        S  ...      0      1.0              244373\n",
              "18    31.0          NaN        S  ...      1      0.0              345763\n",
              "19     NaN          NaN        C  ...      0      1.0                2649\n",
              "20    35.0          NaN        S  ...      0      0.0              239865\n",
              "21    34.0          D56        S  ...      0      1.0              248698\n",
              "22    15.0          NaN        Q  ...      0      1.0              330923\n",
              "23    28.0           A6        S  ...      0      1.0              113788\n",
              "24     8.0          NaN        S  ...      3      0.0              349909\n",
              "25    38.0          NaN        S  ...      1      1.0              347077\n",
              "26     NaN          NaN        C  ...      0      0.0                2631\n",
              "27    19.0  C23 C25 C27        S  ...      3      0.0               19950\n",
              "28     NaN          NaN        Q  ...      0      1.0              330959\n",
              "29     NaN          NaN        S  ...      0      0.0              349216\n",
              "...    ...          ...      ...  ...    ...      ...                 ...\n",
              "1279  21.0          NaN        Q  ...      0      NaN              364858\n",
              "1280   6.0          NaN        S  ...      3      NaN              349909\n",
              "1281  23.0          B24        S  ...      0      NaN               12749\n",
              "1282  51.0          D28        S  ...      0      NaN            PC 17592\n",
              "1283  13.0          NaN        S  ...      0      NaN           C.A. 2673\n",
              "1284  47.0          NaN        S  ...      0      NaN          C.A. 30769\n",
              "1285  29.0          NaN        S  ...      3      NaN              315153\n",
              "1286  18.0          C31        S  ...      1      NaN               13695\n",
              "1287  24.0          NaN        Q  ...      0      NaN              371109\n",
              "1288  48.0          B41        C  ...      1      NaN               13567\n",
              "1289  22.0          NaN        S  ...      0      NaN              347065\n",
              "1290  31.0          NaN        Q  ...      0      NaN               21332\n",
              "1291  30.0           C7        S  ...      0      NaN               36928\n",
              "1292  38.0          NaN        S  ...      1      NaN               28664\n",
              "1293  22.0          NaN        C  ...      0      NaN              112378\n",
              "1294  17.0          NaN        S  ...      0      NaN              113059\n",
              "1295  43.0          D40        C  ...      1      NaN               17765\n",
              "1296  20.0          D38        C  ...      0      NaN       SC/PARIS 2166\n",
              "1297  23.0          NaN        S  ...      1      NaN               28666\n",
              "1298  50.0          C80        C  ...      1      NaN              113503\n",
              "1299   NaN          NaN        Q  ...      0      NaN              334915\n",
              "1300   3.0          NaN        S  ...      1      NaN  SOTON/O.Q. 3101315\n",
              "1301   NaN          NaN        Q  ...      0      NaN              365237\n",
              "1302  37.0          C78        Q  ...      1      NaN               19928\n",
              "1303  28.0          NaN        S  ...      0      NaN              347086\n",
              "1304   NaN          NaN        S  ...      0      NaN           A.5. 3236\n",
              "1305  39.0         C105        C  ...      0      NaN            PC 17758\n",
              "1306  38.5          NaN        S  ...      0      NaN  SOTON/O.Q. 3101262\n",
              "1307   NaN          NaN        S  ...      0      NaN              359309\n",
              "1308   NaN          NaN        C  ...      1      NaN                2668\n",
              "\n",
              "[1309 rows x 12 columns]"
            ]
          },
          "metadata": {
            "tags": []
          },
          "execution_count": 5
        }
      ]
    },
    {
      "cell_type": "code",
      "metadata": {
        "id": "YNtgu_NhoCir",
        "colab_type": "code",
        "outputId": "8edbd0c0-321b-44c2-e4c8-f28548870765",
        "colab": {
          "base_uri": "https://localhost:8080/",
          "height": 306
        }
      },
      "source": [
        "train_test_df.info()"
      ],
      "execution_count": 6,
      "outputs": [
        {
          "output_type": "stream",
          "text": [
            "<class 'pandas.core.frame.DataFrame'>\n",
            "RangeIndex: 1309 entries, 0 to 1308\n",
            "Data columns (total 12 columns):\n",
            "Age            1046 non-null float64\n",
            "Cabin          295 non-null object\n",
            "Embarked       1307 non-null object\n",
            "Fare           1308 non-null float64\n",
            "Name           1309 non-null object\n",
            "Parch          1309 non-null int64\n",
            "PassengerId    1309 non-null int64\n",
            "Pclass         1309 non-null int64\n",
            "Sex            1309 non-null object\n",
            "SibSp          1309 non-null int64\n",
            "Survived       891 non-null float64\n",
            "Ticket         1309 non-null object\n",
            "dtypes: float64(3), int64(4), object(5)\n",
            "memory usage: 122.8+ KB\n"
          ],
          "name": "stdout"
        }
      ]
    },
    {
      "cell_type": "markdown",
      "metadata": {
        "id": "sarr4VQ_oMcm",
        "colab_type": "text"
      },
      "source": [
        "Nullあり \n",
        "- Age 平均とる\n",
        "- Cabin 'None'を与える\n",
        "- Embarked 'None'を与える\n",
        "- Fare 平均をとる"
      ]
    },
    {
      "cell_type": "code",
      "metadata": {
        "id": "7zsdHIdxpAHu",
        "colab_type": "code",
        "colab": {}
      },
      "source": [
        "train_test_df['Age'] = train_test_df['Age'].fillna(train_test_df['Age'].mean())\n",
        "train_test_df['Cabin'] = train_test_df['Cabin'].fillna('None')\n",
        "train_test_df['Embarked'] = train_test_df['Cabin'].fillna('None')\n",
        "train_test_df['Fare'] = train_test_df['Fare'].fillna(train_test_df['Fare'].mean())"
      ],
      "execution_count": 0,
      "outputs": []
    },
    {
      "cell_type": "code",
      "metadata": {
        "id": "dOj840Kipu_c",
        "colab_type": "code",
        "outputId": "83c2a3a6-a5a5-4af0-8739-1bb70e2f42d2",
        "colab": {
          "base_uri": "https://localhost:8080/",
          "height": 306
        }
      },
      "source": [
        "# 確認\n",
        "train_test_df.info()"
      ],
      "execution_count": 8,
      "outputs": [
        {
          "output_type": "stream",
          "text": [
            "<class 'pandas.core.frame.DataFrame'>\n",
            "RangeIndex: 1309 entries, 0 to 1308\n",
            "Data columns (total 12 columns):\n",
            "Age            1309 non-null float64\n",
            "Cabin          1309 non-null object\n",
            "Embarked       1309 non-null object\n",
            "Fare           1309 non-null float64\n",
            "Name           1309 non-null object\n",
            "Parch          1309 non-null int64\n",
            "PassengerId    1309 non-null int64\n",
            "Pclass         1309 non-null int64\n",
            "Sex            1309 non-null object\n",
            "SibSp          1309 non-null int64\n",
            "Survived       891 non-null float64\n",
            "Ticket         1309 non-null object\n",
            "dtypes: float64(3), int64(4), object(5)\n",
            "memory usage: 122.8+ KB\n"
          ],
          "name": "stdout"
        }
      ]
    },
    {
      "cell_type": "markdown",
      "metadata": {
        "id": "sa1CF4-frj0S",
        "colab_type": "text"
      },
      "source": [
        "### カテゴリカルデータをOne-Hot Encodeする\n",
        "(Non Tree methodなので)"
      ]
    },
    {
      "cell_type": "code",
      "metadata": {
        "id": "DbJLbNZ4nPsj",
        "colab_type": "code",
        "colab": {}
      },
      "source": [
        "from sklearn import preprocessing\n",
        "ohe = preprocessing.OneHotEncoder()"
      ],
      "execution_count": 0,
      "outputs": []
    },
    {
      "cell_type": "code",
      "metadata": {
        "id": "B3GyILO6n5FO",
        "colab_type": "code",
        "colab": {}
      },
      "source": [
        "from scipy.sparse import hstack\n",
        "\n",
        "categoricals = ['Cabin', 'Embarked', 'Pclass', 'Sex', 'Ticket']\n",
        "\n",
        "categ_data_one_hot_encoded = None\n",
        "for i, target in enumerate(categoricals):\n",
        "  target_value = train_test_df[target].values.reshape(-1, 1)\n",
        "  if i == 0:\n",
        "    categ_data_one_hot_encoded = ohe.fit_transform(target_value)\n",
        "  else:\n",
        "    tmp = ohe.fit_transform(target_value)\n",
        "    categ_data_one_hot_encoded = hstack([categ_data_one_hot_encoded, tmp])"
      ],
      "execution_count": 0,
      "outputs": []
    },
    {
      "cell_type": "code",
      "metadata": {
        "id": "hkNJM5mbsLdp",
        "colab_type": "code",
        "outputId": "d3341b12-67de-49e6-bf3b-9efc641f2e19",
        "colab": {
          "base_uri": "https://localhost:8080/",
          "height": 51
        }
      },
      "source": [
        "categ_data_one_hot_encoded"
      ],
      "execution_count": 11,
      "outputs": [
        {
          "output_type": "execute_result",
          "data": {
            "text/plain": [
              "<1309x1308 sparse matrix of type '<class 'numpy.float64'>'\n",
              "\twith 6545 stored elements in COOrdinate format>"
            ]
          },
          "metadata": {
            "tags": []
          },
          "execution_count": 11
        }
      ]
    },
    {
      "cell_type": "code",
      "metadata": {
        "id": "QqT1DIP4tOQc",
        "colab_type": "code",
        "colab": {}
      },
      "source": [
        "# Concat with other feature\n",
        "from scipy.sparse import coo_matrix\n",
        "\n",
        "non_categoricals = ['Age', 'Fare', 'Parch', 'SibSp']\n",
        "non_categ_data = coo_matrix(train_test_df[non_categoricals].values)\n",
        "\n",
        "train_test_X = hstack([non_categ_data, categ_data_one_hot_encoded]).toarray()"
      ],
      "execution_count": 0,
      "outputs": []
    },
    {
      "cell_type": "code",
      "metadata": {
        "id": "m1s1UUUCuxbX",
        "colab_type": "code",
        "outputId": "7ee8d3e4-a860-49df-c0a1-9b449ba004f7",
        "colab": {
          "base_uri": "https://localhost:8080/",
          "height": 238
        }
      },
      "source": [
        "# 確認\n",
        "train_test_X"
      ],
      "execution_count": 13,
      "outputs": [
        {
          "output_type": "execute_result",
          "data": {
            "text/plain": [
              "array([[22.        ,  7.25      ,  0.        , ...,  0.        ,\n",
              "         0.        ,  0.        ],\n",
              "       [38.        , 71.2833    ,  0.        , ...,  0.        ,\n",
              "         0.        ,  0.        ],\n",
              "       [26.        ,  7.925     ,  0.        , ...,  0.        ,\n",
              "         0.        ,  0.        ],\n",
              "       ...,\n",
              "       [38.5       ,  7.25      ,  0.        , ...,  0.        ,\n",
              "         0.        ,  0.        ],\n",
              "       [29.88113767,  8.05      ,  0.        , ...,  0.        ,\n",
              "         0.        ,  0.        ],\n",
              "       [29.88113767, 22.3583    ,  1.        , ...,  0.        ,\n",
              "         0.        ,  0.        ]])"
            ]
          },
          "metadata": {
            "tags": []
          },
          "execution_count": 13
        }
      ]
    },
    {
      "cell_type": "code",
      "metadata": {
        "id": "STt2iMM8u4ld",
        "colab_type": "code",
        "colab": {}
      },
      "source": [
        "rs = preprocessing.RobustScaler(\n",
        "    with_centering=True,\n",
        "    with_scaling=True,\n",
        "    quantile_range=(25.0, 75.0),\n",
        "    copy=True)\n",
        "\n",
        "train_test_X = rs.fit_transform(train_test_X)"
      ],
      "execution_count": 0,
      "outputs": []
    },
    {
      "cell_type": "code",
      "metadata": {
        "id": "MuQReCLQGuTc",
        "colab_type": "code",
        "outputId": "c92c8319-9d46-4bf3-97f5-edf204c196fb",
        "colab": {
          "base_uri": "https://localhost:8080/",
          "height": 238
        }
      },
      "source": [
        "train_test_X"
      ],
      "execution_count": 15,
      "outputs": [
        {
          "output_type": "execute_result",
          "data": {
            "text/plain": [
              "array([[-0.60624136, -0.3081457 ,  0.        , ...,  0.        ,\n",
              "         0.        ,  0.        ],\n",
              "       [ 0.62452787,  2.43075469,  0.        , ...,  0.        ,\n",
              "         0.        ,  0.        ],\n",
              "       [-0.29854905, -0.27927388,  0.        , ...,  0.        ,\n",
              "         0.        ,  0.        ],\n",
              "       ...,\n",
              "       [ 0.66298941, -0.3081457 ,  0.        , ...,  0.        ,\n",
              "         0.        ,  0.        ],\n",
              "       [ 0.        , -0.27392725,  0.        , ...,  0.        ,\n",
              "         0.        ,  0.        ],\n",
              "       [ 0.        ,  0.33808257,  1.        , ...,  0.        ,\n",
              "         0.        ,  0.        ]])"
            ]
          },
          "metadata": {
            "tags": []
          },
          "execution_count": 15
        }
      ]
    },
    {
      "cell_type": "markdown",
      "metadata": {
        "id": "6oKFEKj50-G5",
        "colab_type": "text"
      },
      "source": [
        "### データ分割"
      ]
    },
    {
      "cell_type": "code",
      "metadata": {
        "id": "0IoC6L6K15QQ",
        "colab_type": "code",
        "colab": {}
      },
      "source": [
        "# train_X =  train_test_X[:train_df.shape[0]]\n",
        "# test_X = train_test_X[train_df.shape[0]:]\n",
        "\n",
        "train_y =  train_test_df['Survived'][:train_df.shape[0]].values"
      ],
      "execution_count": 0,
      "outputs": []
    },
    {
      "cell_type": "code",
      "metadata": {
        "id": "4iYc2bAUiOje",
        "colab_type": "code",
        "colab": {}
      },
      "source": [
        "import numpy as np\n",
        "train_test_X = train_test_X.astype(np.float32)\n",
        "train_y = train_y.astype(np.float32)"
      ],
      "execution_count": 0,
      "outputs": []
    },
    {
      "cell_type": "code",
      "metadata": {
        "id": "AsDXYu8miSff",
        "colab_type": "code",
        "colab": {}
      },
      "source": [
        "import torch\n",
        "tensor_train_test_X = \\\n",
        "  torch.stack([torch.from_numpy(np.array(i)) for i in train_test_X])\n",
        "tensor_train_y = torch.stack([torch.from_numpy(np.array(i)) for i in train_y])"
      ],
      "execution_count": 0,
      "outputs": []
    },
    {
      "cell_type": "code",
      "metadata": {
        "id": "1XW3Hfvgk9o1",
        "colab_type": "code",
        "colab": {}
      },
      "source": [
        "# 学習用\n",
        "tensor_train_X = tensor_train_test_X[:tensor_train_y.shape[0]]\n",
        "# 提出用\n",
        "tensor_test_X = tensor_train_test_X[tensor_train_y.shape[0]:]"
      ],
      "execution_count": 0,
      "outputs": []
    },
    {
      "cell_type": "markdown",
      "metadata": {
        "id": "T9BSb48Gwn-g",
        "colab_type": "text"
      },
      "source": [
        "## PyTorchの適当なNNでTitanicの生存者を予測する"
      ]
    },
    {
      "cell_type": "markdown",
      "metadata": {
        "id": "O255Yn4kk_hF",
        "colab_type": "text"
      },
      "source": [
        "### Torch用データセット作成"
      ]
    },
    {
      "cell_type": "code",
      "metadata": {
        "id": "S9lmoRaPsUMn",
        "colab_type": "code",
        "colab": {}
      },
      "source": [
        "import torch\n",
        "from  torch.utils.data import random_split"
      ],
      "execution_count": 0,
      "outputs": []
    },
    {
      "cell_type": "code",
      "metadata": {
        "id": "zzqsRnqrwdWw",
        "colab_type": "code",
        "colab": {}
      },
      "source": [
        "train_dataset = torch.utils.data.TensorDataset(tensor_train_X, tensor_train_y)\n",
        "len_dataset = tensor_train_X.shape[0]\n",
        "train_ratio = 0.7\n",
        "train_dataset, valid_dataset = random_split(\n",
        "    train_dataset,\n",
        "    [int(len_dataset*train_ratio), len_dataset - int(len_dataset*train_ratio)])"
      ],
      "execution_count": 0,
      "outputs": []
    },
    {
      "cell_type": "code",
      "metadata": {
        "id": "D1iOSYu26H6D",
        "colab_type": "code",
        "outputId": "fde2624f-8e2a-4ae0-be82-2d7f38d928c0",
        "colab": {
          "base_uri": "https://localhost:8080/",
          "height": 51
        }
      },
      "source": [
        "# 確認\n",
        "\n",
        "print('train length: ', len(train_dataset))\n",
        "print('valid length', len(valid_dataset))"
      ],
      "execution_count": 22,
      "outputs": [
        {
          "output_type": "stream",
          "text": [
            "train length:  623\n",
            "valid length 268\n"
          ],
          "name": "stdout"
        }
      ]
    },
    {
      "cell_type": "markdown",
      "metadata": {
        "id": "upxd95uoxRwR",
        "colab_type": "text"
      },
      "source": [
        "### Torch用 loader 設定"
      ]
    },
    {
      "cell_type": "code",
      "metadata": {
        "id": "mA_9jPi1xZnO",
        "colab_type": "code",
        "colab": {}
      },
      "source": [
        "train_loader = torch.utils.data.DataLoader(\n",
        "    train_dataset,\n",
        "    shuffle=True,\n",
        "    batch_size=64,\n",
        "    num_workers=4)\n",
        "valid_loader = torch.utils.data.DataLoader(\n",
        "    valid_dataset,\n",
        "    shuffle=False,\n",
        "    batch_size=64,\n",
        "    num_workers=4)"
      ],
      "execution_count": 0,
      "outputs": []
    },
    {
      "cell_type": "markdown",
      "metadata": {
        "id": "Qa3Y-L140iim",
        "colab_type": "text"
      },
      "source": [
        "### MLPの定義"
      ]
    },
    {
      "cell_type": "code",
      "metadata": {
        "id": "UwLM27tww7n9",
        "colab_type": "code",
        "colab": {}
      },
      "source": [
        "dim_tensor = tensor_train_X.shape[1]"
      ],
      "execution_count": 0,
      "outputs": []
    },
    {
      "cell_type": "code",
      "metadata": {
        "id": "LbZ2DYXI0qtJ",
        "colab_type": "code",
        "colab": {}
      },
      "source": [
        "import torch.nn as nn\n",
        "import torch.optim as optim\n",
        "import torch.nn.functional as F\n",
        "\n",
        "# Multi Layer Perceptron Network\n",
        "class MLPNet (nn.Module):\n",
        "    def __init__(self):\n",
        "        super(MLPNet, self).__init__()\n",
        "        self.fc1 = nn.Linear(dim_tensor, 1024)   \n",
        "        self.fc2 = nn.Linear(1024, 512)\n",
        "        self.fc3 = nn.Linear(512, 1)\n",
        "        self.dropout1 = nn.Dropout2d(0.7)\n",
        "        self.dropout2 = nn.Dropout2d(0.5)\n",
        "        \n",
        "    def forward(self, x):\n",
        "        x = F.relu(self.fc1(x))\n",
        "        x = self.dropout1(x)\n",
        "        x = F.relu(self.fc2(x))\n",
        "        x = self.dropout2(x)\n",
        "        return F.sigmoid(self.fc3(x))\n",
        " \n",
        "# select device\n",
        "device = 'cuda' if torch.cuda.is_available() else 'cpu'\n",
        "net = MLPNet().to(device)\n",
        " \n",
        "# optimizing\n",
        "criterion = nn.BCELoss()\n",
        "optimizer = optim.Adam(net.parameters(), lr=0.0001, weight_decay=5e-4, betas=(0.9, 0.999))"
      ],
      "execution_count": 0,
      "outputs": []
    },
    {
      "cell_type": "markdown",
      "metadata": {
        "id": "RhOqB-bO4BDu",
        "colab_type": "text"
      },
      "source": [
        "### 学習&検証"
      ]
    },
    {
      "cell_type": "code",
      "metadata": {
        "id": "XPIHOKP9jvpR",
        "colab_type": "code",
        "colab": {}
      },
      "source": [
        "from sklearn.metrics import roc_auc_score"
      ],
      "execution_count": 0,
      "outputs": []
    },
    {
      "cell_type": "code",
      "metadata": {
        "id": "Y54A8Kxu4LiB",
        "colab_type": "code",
        "outputId": "b7798890-2915-4233-8c9c-0b92c6c6198e",
        "colab": {
          "base_uri": "https://localhost:8080/",
          "height": 884
        }
      },
      "source": [
        "import warnings\n",
        "warnings.filterwarnings('ignore')\n",
        "\n",
        "###  training\n",
        "print ('training start ...')\n",
        "num_epochs = 50\n",
        " \n",
        "# initialize list for plot graph after training\n",
        "train_loss_list, train_acc_list, val_loss_list, val_acc_list, val_auc_list = [], [], [], [], []\n",
        "total_outputs = None\n",
        "total_labels = None\n",
        " \n",
        "for epoch in range(num_epochs):\n",
        "    # initialize each epoch\n",
        "    train_loss, train_acc, val_loss, val_acc, val_auc = 0, 0, 0, 0, 0\n",
        "    \n",
        "    # ======== train_mode ======\n",
        "    net.train()\n",
        "    for i, (samples, labels) in enumerate(train_loader):  # ミニバッチ回数実行\n",
        "        # deviceへ転送\n",
        "        samples, labels = samples.to(device), labels.to(device)\n",
        "        optimizer.zero_grad()  # 勾配リセット\n",
        "        outputs = net(samples)  # 順伝播の計算\n",
        "        \n",
        "        loss = criterion(outputs.reshape(-1,), labels.reshape(-1,))  # lossの計算\n",
        "        train_loss += loss.item()  # train_loss に結果を蓄積        \n",
        "        acc = (outputs.max(1)[1] == labels.long()).sum()  #  予測とラベルが合っている数の合計\n",
        "        train_acc += acc.item()  # train_acc に結果を蓄積\n",
        "        loss.backward()  # 逆伝播の計算        \n",
        "        optimizer.step()  # 重みの更新\n",
        "        avg_train_loss = train_loss / len(train_loader.dataset)  # lossの平均を計算\n",
        "        avg_train_acc = train_acc / len(train_loader.dataset)  # accの平均を計算\n",
        "    \n",
        "    # ======== valid_mode ======\n",
        "    net.eval()\n",
        "    with torch.no_grad():  # 必要のない計算を停止\n",
        "      for j, (samples, labels) in enumerate(valid_loader):        \n",
        "          samples, labels = samples.to(device), labels.to(device)\n",
        "          outputs = net(samples)\n",
        "          loss = criterion(outputs.reshape(-1,), labels.reshape(-1,))\n",
        "          val_loss += loss.item()\n",
        "          acc = (outputs.max(1)[1].long() == labels.long()).sum()\n",
        "          val_acc += acc.item()\n",
        "          \n",
        "          # AUC計算\n",
        "          outputs_list = outputs.reshape(-1,).cpu().numpy()\n",
        "          labels_list = labels.reshape(-1,).cpu().numpy()\n",
        "          val_auc += roc_auc_score(labels_list, outputs_list)\n",
        "          if j == 0:\n",
        "            total_outputs = outputs_list\n",
        "            total_labels = labels_list\n",
        "          else:\n",
        "            total_outputs = np.concatenate([total_outputs, outputs_list])\n",
        "            total_labels = np.concatenate([total_labels, labels_list])\n",
        "          \n",
        "    avg_val_loss = val_loss / len(valid_loader.dataset)\n",
        "    avg_val_acc = val_acc / len(valid_loader.dataset)\n",
        "    avg_val_auc = val_auc / len(valid_loader.dataset)\n",
        "    \n",
        "    # print log\n",
        "    print ('Epoch [{}/{}], Loss: {loss:.4f}, val_loss: {val_loss:.4f}' \n",
        "                   .format(epoch+1, num_epochs, i+1, loss=avg_train_loss, val_loss=avg_val_loss))\n",
        " \n",
        "    # append list for polt graph after training\n",
        "    train_loss_list.append(avg_train_loss)\n",
        "    train_acc_list.append(avg_train_acc)\n",
        "    val_loss_list.append(avg_val_loss)\n",
        "    val_acc_list.append(avg_val_acc)\n",
        "    val_auc_list.append(avg_val_auc)\n",
        " "
      ],
      "execution_count": 27,
      "outputs": [
        {
          "output_type": "stream",
          "text": [
            "training start ...\n",
            "Epoch [1/50], Loss: 0.0110, val_loss: 0.0128\n",
            "Epoch [2/50], Loss: 0.0109, val_loss: 0.0127\n",
            "Epoch [3/50], Loss: 0.0108, val_loss: 0.0125\n",
            "Epoch [4/50], Loss: 0.0107, val_loss: 0.0124\n",
            "Epoch [5/50], Loss: 0.0105, val_loss: 0.0122\n",
            "Epoch [6/50], Loss: 0.0104, val_loss: 0.0120\n",
            "Epoch [7/50], Loss: 0.0101, val_loss: 0.0118\n",
            "Epoch [8/50], Loss: 0.0099, val_loss: 0.0115\n",
            "Epoch [9/50], Loss: 0.0096, val_loss: 0.0112\n",
            "Epoch [10/50], Loss: 0.0092, val_loss: 0.0108\n",
            "Epoch [11/50], Loss: 0.0088, val_loss: 0.0105\n",
            "Epoch [12/50], Loss: 0.0085, val_loss: 0.0101\n",
            "Epoch [13/50], Loss: 0.0080, val_loss: 0.0098\n",
            "Epoch [14/50], Loss: 0.0076, val_loss: 0.0096\n",
            "Epoch [15/50], Loss: 0.0072, val_loss: 0.0093\n",
            "Epoch [16/50], Loss: 0.0069, val_loss: 0.0091\n",
            "Epoch [17/50], Loss: 0.0066, val_loss: 0.0090\n",
            "Epoch [18/50], Loss: 0.0063, val_loss: 0.0088\n",
            "Epoch [19/50], Loss: 0.0061, val_loss: 0.0087\n",
            "Epoch [20/50], Loss: 0.0060, val_loss: 0.0087\n",
            "Epoch [21/50], Loss: 0.0059, val_loss: 0.0086\n",
            "Epoch [22/50], Loss: 0.0055, val_loss: 0.0086\n",
            "Epoch [23/50], Loss: 0.0054, val_loss: 0.0085\n",
            "Epoch [24/50], Loss: 0.0053, val_loss: 0.0085\n",
            "Epoch [25/50], Loss: 0.0051, val_loss: 0.0085\n",
            "Epoch [26/50], Loss: 0.0049, val_loss: 0.0085\n",
            "Epoch [27/50], Loss: 0.0049, val_loss: 0.0084\n",
            "Epoch [28/50], Loss: 0.0047, val_loss: 0.0084\n",
            "Epoch [29/50], Loss: 0.0047, val_loss: 0.0084\n",
            "Epoch [30/50], Loss: 0.0044, val_loss: 0.0084\n",
            "Epoch [31/50], Loss: 0.0043, val_loss: 0.0083\n",
            "Epoch [32/50], Loss: 0.0044, val_loss: 0.0084\n",
            "Epoch [33/50], Loss: 0.0042, val_loss: 0.0084\n",
            "Epoch [34/50], Loss: 0.0040, val_loss: 0.0083\n",
            "Epoch [35/50], Loss: 0.0039, val_loss: 0.0082\n",
            "Epoch [36/50], Loss: 0.0038, val_loss: 0.0083\n",
            "Epoch [37/50], Loss: 0.0036, val_loss: 0.0083\n",
            "Epoch [38/50], Loss: 0.0036, val_loss: 0.0083\n",
            "Epoch [39/50], Loss: 0.0035, val_loss: 0.0083\n",
            "Epoch [40/50], Loss: 0.0032, val_loss: 0.0082\n",
            "Epoch [41/50], Loss: 0.0031, val_loss: 0.0082\n",
            "Epoch [42/50], Loss: 0.0032, val_loss: 0.0081\n",
            "Epoch [43/50], Loss: 0.0029, val_loss: 0.0082\n",
            "Epoch [44/50], Loss: 0.0029, val_loss: 0.0082\n",
            "Epoch [45/50], Loss: 0.0028, val_loss: 0.0082\n",
            "Epoch [46/50], Loss: 0.0026, val_loss: 0.0082\n",
            "Epoch [47/50], Loss: 0.0026, val_loss: 0.0082\n",
            "Epoch [48/50], Loss: 0.0025, val_loss: 0.0081\n",
            "Epoch [49/50], Loss: 0.0024, val_loss: 0.0081\n",
            "Epoch [50/50], Loss: 0.0022, val_loss: 0.0081\n"
          ],
          "name": "stdout"
        }
      ]
    },
    {
      "cell_type": "code",
      "metadata": {
        "id": "lwGLrjmJnf-M",
        "colab_type": "code",
        "colab": {}
      },
      "source": [
        "total_outputs = 1 * (total_outputs >= 0.5)"
      ],
      "execution_count": 0,
      "outputs": []
    },
    {
      "cell_type": "markdown",
      "metadata": {
        "id": "SwcYzv_Yr1P8",
        "colab_type": "text"
      },
      "source": [
        "### 結果"
      ]
    },
    {
      "cell_type": "code",
      "metadata": {
        "id": "2LXuiTWdnzqV",
        "colab_type": "code",
        "colab": {
          "base_uri": "https://localhost:8080/",
          "height": 34
        },
        "outputId": "4a8daacc-c312-4947-de31-c3fb0841846f"
      },
      "source": [
        "# 正解率\n",
        "from sklearn.metrics import accuracy_score\n",
        "accuracy_score(total_labels, total_outputs)"
      ],
      "execution_count": 29,
      "outputs": [
        {
          "output_type": "execute_result",
          "data": {
            "text/plain": [
              "0.8208955223880597"
            ]
          },
          "metadata": {
            "tags": []
          },
          "execution_count": 29
        }
      ]
    },
    {
      "cell_type": "code",
      "metadata": {
        "id": "pTdrotyHpAOL",
        "colab_type": "code",
        "colab": {
          "base_uri": "https://localhost:8080/",
          "height": 34
        },
        "outputId": "297c7a67-593f-4361-86cb-cd89cbaa9509"
      },
      "source": [
        "# AUC\n",
        "from sklearn.metrics import roc_auc_score\n",
        "roc_auc_score(total_labels, total_outputs)"
      ],
      "execution_count": 30,
      "outputs": [
        {
          "output_type": "execute_result",
          "data": {
            "text/plain": [
              "0.8120946538124452"
            ]
          },
          "metadata": {
            "tags": []
          },
          "execution_count": 30
        }
      ]
    },
    {
      "cell_type": "code",
      "metadata": {
        "id": "Qc1MHbCXozJe",
        "colab_type": "code",
        "colab": {}
      },
      "source": [
        "from sklearn.metrics import confusion_matrix\n",
        "conf_matrix = confusion_matrix(total_labels, total_outputs)"
      ],
      "execution_count": 0,
      "outputs": []
    },
    {
      "cell_type": "code",
      "metadata": {
        "id": "VmYhlXXqp2H9",
        "colab_type": "code",
        "colab": {
          "base_uri": "https://localhost:8080/",
          "height": 286
        },
        "outputId": "6409515e-e328-405b-fe59-3153f497a52a"
      },
      "source": [
        "import seaborn as sns\n",
        "sns.heatmap(conf_matrix, annot=True, cmap='Blues', fmt=\"d\")"
      ],
      "execution_count": 32,
      "outputs": [
        {
          "output_type": "execute_result",
          "data": {
            "text/plain": [
              "<matplotlib.axes._subplots.AxesSubplot at 0x7f55cdbd46a0>"
            ]
          },
          "metadata": {
            "tags": []
          },
          "execution_count": 32
        },
        {
          "output_type": "display_data",
          "data": {
            "image/png": "[encoded data removed]",
            "text/plain": [
              "<Figure size 432x288 with 2 Axes>"
            ]
          },
          "metadata": {
            "tags": []
          }
        }
      ]
    }
  ]
}